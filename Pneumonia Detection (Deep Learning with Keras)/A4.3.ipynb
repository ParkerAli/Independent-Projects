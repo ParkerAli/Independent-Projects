{
 "cells": [
  {
   "cell_type": "markdown",
   "metadata": {},
   "source": [
    "## Question 3\n",
    "For this question, I will be referring to the Question 3 appendix where necessary.\n",
    "### (a)\n",
    "Looking at Reference 3, the best action to take is the Large Office with Expected return (in thousands) \n",
    "$=\\frac{40+60+100}{3} = 66.667$\n",
    " \n",
    "### (b)\n",
    "This response refers to References 5-8. \n",
    " \n",
    "The prior probability for $\\lambda_1\\approx 0.333$. The posterior probability if 5 widgets are sold is 0.378. This means the probability that demand for widgets will be 5 orders has increased from 0.333 to 0.378.\n",
    " \n",
    "The prior probability for $\\lambda_2\\approx 0.333$. The posterior probability if 5 widgets are sold is 0.346. This means the probability that demand for widgets will be 6 orders has increased from 0.333 to 0.346.\n",
    " \n",
    "The prior probability for $\\lambda_3\\approx 0.333$. The posterior probability if 5 widgets are sold is 0.275. This means the probability that demand for widgets will be 7 orders has decreased from 0.333 to 0.275.\n",
    " \n",
    "### (c)\n",
    "It is a conjugate prior distribution with regards to the likelihood for a poisson distribution. This implies it gives \n",
    "rise to a posterior distribution having the same parametric form as the prior i.e a gamma distribution. It \n",
    "also represents an informative prior distribution in this case.\n",
    " \n",
    "### (d)\n",
    "$\\mu_{prior}=\\alpha * \\beta=10*0.5=5$\n",
    " \n",
    "$\\sigma^2_{prior}=\\alpha * \\beta^2=10*0.5^2=2.5$\n",
    " \n",
    "### (e)\n",
    "n=6 and $\\Sigma^6_{i=1}x_i=32$\n",
    " \n",
    "In this form of the Gamma distribution, $\\beta=\\frac{1}{\\phi}$ where $\\phi$ is the total number of months. \n",
    " \n",
    "So $\\phi_{prior}=\\frac{1}{0.5}=2$\n",
    " \n",
    "$\\phi_{posterior} = \\phi_{prior}+n = 2+6 = 8$\n",
    " \n",
    "$\\beta_{posterior} = \\frac{1}{\\phi_{posterior}}=\\frac{1}{8}=0.125$\n",
    " \n",
    "$\\alpha_{posterior}=\\alpha_{prior}+\\Sigma^6_{i=1}x_i=10+32=42$\n",
    " \n",
    "$\\lambda$~Gamma(42,0.125)\n",
    " \n",
    "### (f)\n",
    "$\\mu_{posterior}=\\alpha * \\beta=42*0.125=5.25$\n",
    " \n",
    "$\\sigma^2_{posterior}=\\alpha * \\beta^2=42*0.125^2=0.656$\n",
    " \n",
    "### (g)\n",
    "qgamma(0.025, shape = 42, scale=0.125) ; qgamma(0.975, shape = 42, scale = 0.125) "
   ]
  }
 ],
 "metadata": {
  "kernelspec": {
   "display_name": "Python 3",
   "language": "python",
   "name": "python3"
  },
  "language_info": {
   "codemirror_mode": {
    "name": "ipython",
    "version": 3
   },
   "file_extension": ".py",
   "mimetype": "text/x-python",
   "name": "python",
   "nbconvert_exporter": "python",
   "pygments_lexer": "ipython3",
   "version": "3.7.7"
  }
 },
 "nbformat": 4,
 "nbformat_minor": 4
}
