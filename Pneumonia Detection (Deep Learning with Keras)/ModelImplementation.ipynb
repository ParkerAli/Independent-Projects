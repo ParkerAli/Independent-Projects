{
 "cells": [
  {
   "cell_type": "code",
   "execution_count": null,
   "outputs": [],
   "source": [
    "from pathlib import Path\n",
    "import keras\n",
    "from keras.preprocessing import image\n",
    "import numpy as np"
   ],
   "metadata": {
    "collapsed": false,
    "pycharm": {
     "name": "#%%\n"
    }
   }
  },
  {
   "cell_type": "code",
   "execution_count": null,
   "outputs": [],
   "source": [
    "f = Path('model_structure.json')\n",
    "model_structure = f.read_text()\n",
    "\n",
    "model = keras.model_from_json(model_structure)\n",
    "\n",
    "model.load_weights('model_weights.h5')"
   ],
   "metadata": {
    "collapsed": false,
    "pycharm": {
     "name": "#%%\n"
    }
   }
  },
  {
   "cell_type": "code",
   "execution_count": null,
   "metadata": {
    "collapsed": true
   },
   "outputs": [],
   "source": [
    "- Load an image file to test, resizing it to 32x32 pixels (as required by this model)\n",
    "- Then convert the image to a numpy array (and normalise it)"
   ]
  },
  {
   "cell_type": "markdown",
   "source": [
    "img= image.load_img('frog.png', target_size=(500,500))\n",
    "\n",
    "image_to_test = image.img_to_array(img) / 255"
   ],
   "metadata": {
    "collapsed": false
   }
  },
  {
   "cell_type": "code",
   "execution_count": null,
   "outputs": [],
   "source": [
    "Since Keras expects a list of images, not a single image, we add a fourth dimension to the image's array object"
   ],
   "metadata": {
    "collapsed": false,
    "pycharm": {
     "name": "#%%\n"
    }
   }
  },
  {
   "cell_type": "markdown",
   "source": [
    "list_of_images = np.expand_dims(image_to_test, axis=0)"
   ],
   "metadata": {
    "collapsed": false
   }
  },
  {
   "cell_type": "code",
   "execution_count": null,
   "outputs": [],
   "source": [
    "Now we make a prediction using the model\n",
    "- Results contains the list of results for images we pass in.\n",
    "- Since we are only testing one image, we only need to check the first result."
   ],
   "metadata": {
    "collapsed": false,
    "pycharm": {
     "name": "#%%\n"
    }
   }
  },
  {
   "cell_type": "markdown",
   "source": [
    "results = model.predict(list_of_images)  \n",
    "single_result = results[0]"
   ],
   "metadata": {
    "collapsed": false
   }
  },
  {
   "cell_type": "code",
   "execution_count": null,
   "outputs": [],
   "source": [
    "We will get a likelihood score for both possible classifications \n",
    "- Now we can find out which class had the highest score."
   ],
   "metadata": {
    "collapsed": false,
    "pycharm": {
     "name": "#%%\n"
    }
   }
  },
  {
   "cell_type": "markdown",
   "source": [
    "labels = ['Normal', 'Pneumonia']\n",
    "most_likely_class_index = int(np.argmax(single_result))\n",
    "class_likelihood = single_result [most_likely_class_index]\n",
    "label = labels[most_likely_class_index]\n",
    "print(\"This is image is a {} - Likelihood: {:2f}\".format(label, class_likelihood))"
   ],
   "metadata": {
    "collapsed": false
   }
  },
  {
   "cell_type": "code",
   "execution_count": null,
   "outputs": [],
   "source": [
    "most_likely_class_index = int(np.argmax(single_result))\n",
    "class_likelihood = single_result [most_likely_class_index]\n",
    "class_label = class_labels[most_likely_class_index]\n",
    "print(\"This is image is a {} - Likelihood: {:2f}\".format(class_label, class_likelihood))"
   ],
   "metadata": {
    "collapsed": false,
    "pycharm": {
     "name": "#%%\n"
    }
   }
  },
  {
   "cell_type": "markdown",
   "source": [
    "most_likely_class_index = int(np.argmax(single_result))\n",
    "class_likelihood = single_result [most_likely_class_index]\n",
    "class_label = class_labels[most_likely_class_index]\n",
    "print(\"This is image is a {} - Likelihood: {:2f}\".format(class_label, class_likelihood))"
   ],
   "metadata": {
    "collapsed": false
   }
  },
  {
   "cell_type": "code",
   "execution_count": null,
   "outputs": [],
   "source": [
    "img= image.load_img('frog.png', target_size=(32,32))\n",
    "\n",
    "image_to_test = image.img_to_array(img) / 255"
   ],
   "metadata": {
    "collapsed": false,
    "pycharm": {
     "name": "#%%\n"
    }
   }
  },
  {
   "cell_type": "markdown",
   "source": [
    "Since Keras expects a list of images, not a single image, we add a fourth dimension to the image's array object"
   ],
   "metadata": {
    "collapsed": false
   }
  },
  {
   "cell_type": "code",
   "execution_count": null,
   "outputs": [],
   "source": [
    "list_of_images = np.expand_dims(image_to_test, axis=0)"
   ],
   "metadata": {
    "collapsed": false,
    "pycharm": {
     "name": "#%%\n"
    }
   }
  },
  {
   "cell_type": "markdown",
   "source": [
    "Now we make a prediction using the model\n",
    "- Results contains the list of results for images we pass in.\n",
    "- Since we are only testing one image, we only need to check the first result."
   ],
   "metadata": {
    "collapsed": false
   }
  },
  {
   "cell_type": "code",
   "execution_count": null,
   "outputs": [],
   "source": [
    "results = model.predict(list_of_images)  \n",
    "single_result = results[0]"
   ],
   "metadata": {
    "collapsed": false,
    "pycharm": {
     "name": "#%%\n"
    }
   }
  },
  {
   "cell_type": "markdown",
   "source": [
    "We will get a likelihood score for all 10 possible classes. \n",
    "- Now we can find out which class had the highest score."
   ],
   "metadata": {
    "collapsed": false
   }
  },
  {
   "cell_type": "code",
   "execution_count": null,
   "outputs": [],
   "source": [
    "most_likely_class_index = int(np.argmax(single_result))\n",
    "class_likelihood = single_result [most_likely_class_index]\n",
    "class_label = class_labels[most_likely_class_index]\n",
    "print(\"This is image is a {} - Likelihood: {:2f}\".format(class_label, class_likelihood))"
   ],
   "metadata": {
    "collapsed": false,
    "pycharm": {
     "name": "#%%\n"
    }
   }
  }
 ],
 "metadata": {
  "kernelspec": {
   "display_name": "Python 3",
   "language": "python",
   "name": "python3"
  },
  "language_info": {
   "codemirror_mode": {
    "name": "ipython",
    "version": 2
   },
   "file_extension": ".py",
   "mimetype": "text/x-python",
   "name": "python",
   "nbconvert_exporter": "python",
   "pygments_lexer": "ipython2",
   "version": "2.7.6"
  },
  "pycharm": {
   "stem_cell": {
    "cell_type": "raw",
    "source": [],
    "metadata": {
     "collapsed": false
    }
   }
  }
 },
 "nbformat": 4,
 "nbformat_minor": 0
}