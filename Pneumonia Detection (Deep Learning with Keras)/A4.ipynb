{
 "cells": [
  {
   "cell_type": "markdown",
   "metadata": {
    "collapsed": true,
    "pycharm": {
     "name": "#%% md\n"
    }
   },
   "source": [
    "# Assignment 4 - Bayesian Inference Assessment by Mahmood-Ali Parker (PRKMAH005)\n",
    "For reference purposes, I have included an excel appendix at the end of each question. The process involved in \n",
    "populating each table is written in blue font in the block alongside each excel table.\n",
    "## Question 1\n",
    "For this question, I will be referring to the Question 1 Appendix where necessary.\n",
    "### (a)\n",
    "As per Reference 3, without data, the optimal action is to \n",
    "drill for oil as the expected return less costs (in millions) $= 0.2*(-10) + 0.5*5 + 0.3*15 = 5$\n",
    " \n",
    "### (b)\n",
    "As per reference 3, the return using perfect information (in millions) $= 0.2*0 + 0.5*15 + 0.3*25 = 7$\n",
    " \n",
    "EVPI (Millions) = 7-5 = 2\n",
    "### (c)\n",
    "As per the Joint Probabilities Table (Reference 6), the joint probability that the site is dry and the seismic data indicates $x_2$ is \n",
    "0.0534.\n",
    " \n",
    "### (d)\n",
    "As per the Predictive Probabilities (Reference 7), the probability that the seismic scan detects incomplete rock formations is\n",
    "0.3198\n",
    " \n",
    "### (e)\n",
    "The posterior predictive probabilities refer to Reference 8, specifically the x2 column.\n",
    " \n",
    "The prior probability for $\\theta_1=0.2$. The posterior probability is 0.167. This means the probability that the site is dry has decreased from 0.2 to 0.167.\n",
    " \n",
    "The prior probability for $\\theta_2=0.5$. The posterior probability is 0.521.This means the probability that the site is wet has decreased from 0.5 to 0.521.\n",
    " \n",
    "The prior probability for $\\theta_3=0.3$. The posterior probability is 0.312. This means the probability that the site is gushing has increased from 0.3 to 0.312.\n",
    "### (f)\n",
    "See reference 9\n",
    "### (g)\n",
    "5.365 Million (as per reference 11)\n",
    " \n",
    "### (h)\n",
    "The EVSI (Millions) = 5.365-5 = 0.365. This is less than the cost of the seismic scans of R500 000. The oil company \n",
    "shouldn't purchase the seismic scan.\n"
   ]
  }
 ],
 "metadata": {
  "kernelspec": {
   "display_name": "Python 3",
   "language": "python",
   "name": "python3"
  },
  "language_info": {
   "codemirror_mode": {
    "name": "ipython",
    "version": 3
   },
   "file_extension": ".py",
   "mimetype": "text/x-python",
   "name": "python",
   "nbconvert_exporter": "python",
   "pygments_lexer": "ipython3",
   "version": "3.7.7"
  },
  "pycharm": {
   "stem_cell": {
    "cell_type": "raw",
    "source": [],
    "metadata": {
     "collapsed": false
    }
   }
  }
 },
 "nbformat": 4,
 "nbformat_minor": 1
}